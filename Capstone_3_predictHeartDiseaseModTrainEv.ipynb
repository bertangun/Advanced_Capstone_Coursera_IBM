{
 "cells": [
  {
   "cell_type": "markdown",
   "metadata": {
    "collapsed": true
   },
   "source": [
    "# Analysis and Prediction of Heart Disease\n",
    "### (Model Definition , Training and Evaluation)\n",
    "\n",
    "## 4. Model Definition, Training and Evaluation :\n",
    "\n",
    "In this notebook, we will select the model which is most appropriate for our usecase the model that is most appropriate for accurately predicting the possibility of a prediction of heart disease. "
   ]
  },
  {
   "cell_type": "markdown",
   "metadata": {},
   "source": [
    "### 4.1. Load Normalized Data from Object Storage :"
   ]
  },
  {
   "cell_type": "code",
   "execution_count": 1,
   "metadata": {},
   "outputs": [
    {
     "name": "stdout",
     "output_type": "stream",
     "text": [
      "Waiting for a Spark session to start...\n",
      "Spark Initialization Done! ApplicationId = app-20190730152522-0002\n",
      "KERNEL_ID = c58cc9c4-8c4a-475c-a766-10d37480203a\n"
     ]
    }
   ],
   "source": [
    "# import required packages and libraries\n",
    "import types\n",
    "import pandas as pd\n",
    "import numpy as np\n",
    "import ibmos2spark"
   ]
  },
  {
   "cell_type": "code",
   "execution_count": 2,
   "metadata": {},
   "outputs": [
    {
     "name": "stdout",
     "output_type": "stream",
     "text": [
      "Number of records =  303 \n",
      "\n",
      "+------+--------------------+\n",
      "|target|            features|\n",
      "+------+--------------------+\n",
      "|     1|[0.0,0.0,0.0,0.0,...|\n",
      "|     1|[0.0,0.0,0.0,1.0,...|\n",
      "|     1|[1.0,0.0,1.0,0.0,...|\n",
      "|     1|[0.0,0.0,1.0,0.0,...|\n",
      "|     1|[1.0,1.0,0.0,0.0,...|\n",
      "|     1|[0.0,1.0,0.0,0.0,...|\n",
      "|     1|[1.0,0.0,1.0,0.0,...|\n",
      "|     1|[0.0,0.0,1.0,0.0,...|\n",
      "|     1|[0.0,0.0,0.0,1.0,...|\n",
      "|     1|[0.0,0.0,0.0,1.0,...|\n",
      "|     1|[0.0,1.0,0.0,0.0,...|\n",
      "|     1|[1.0,0.0,0.0,1.0,...|\n",
      "|     1|[0.0,0.0,1.0,0.0,...|\n",
      "|     1|[0.0,0.0,0.0,0.0,...|\n",
      "|     1|[1.0,0.0,0.0,0.0,...|\n",
      "|     1|[1.0,0.0,0.0,1.0,...|\n",
      "|     1|[1.0,0.0,0.0,1.0,...|\n",
      "|     1|[1.0,0.0,0.0,0.0,...|\n",
      "|     1|[0.0,1.0,0.0,0.0,...|\n",
      "|     1|[1.0,0.0,0.0,0.0,...|\n",
      "+------+--------------------+\n",
      "only showing top 20 rows\n",
      "\n"
     ]
    }
   ],
   "source": [
    "# @hidden_cell\n",
    "credentials = {\n",
    "    'endpoint': 'https://s3.eu-geo.objectstorage.service.networklayer.com',\n",
    "    'service_id': 'iam-ServiceId-39b8034e-49e4-4e3e-b6fd-44f01e7f35b9',\n",
    "    'iam_service_endpoint': 'https://iam.eu-gb.bluemix.net/oidc/token',\n",
    "    'api_key': 'iN3J17eRe8Mezyc57J4mtxTRFl-oey7Re0eCAwWgP_8T'\n",
    "}\n",
    "\n",
    "configuration_name = 'os_0dc47b3a85024faf8c9e361e756597e5_configs'\n",
    "cos = ibmos2spark.CloudObjectStorage(sc, credentials, configuration_name, 'bluemix_cos')\n",
    "\n",
    "\n",
    "from pyspark.sql import SparkSession\n",
    "spark = SparkSession.builder.getOrCreate()\n",
    "df_data = spark.read.parquet(cos.url('heart_normalized.parquet', 'definition-donotdelete-pr-cluwtgruaxvlbz'))\n",
    "print(\"Number of records = \", df_data.count(), \"\\n\")\n",
    "df_data.createOrReplaceTempView('df')\n",
    "df_data.show()"
   ]
  },
  {
   "cell_type": "markdown",
   "metadata": {},
   "source": [
    "Let's change the target column's name with label."
   ]
  },
  {
   "cell_type": "code",
   "execution_count": 3,
   "metadata": {},
   "outputs": [
    {
     "name": "stdout",
     "output_type": "stream",
     "text": [
      "+-----+--------------------+\n",
      "|label|            features|\n",
      "+-----+--------------------+\n",
      "|    1|[0.0,0.0,0.0,0.0,...|\n",
      "|    1|[0.0,0.0,0.0,1.0,...|\n",
      "|    1|[1.0,0.0,1.0,0.0,...|\n",
      "|    1|[0.0,0.0,1.0,0.0,...|\n",
      "|    1|[1.0,1.0,0.0,0.0,...|\n",
      "|    1|[0.0,1.0,0.0,0.0,...|\n",
      "|    1|[1.0,0.0,1.0,0.0,...|\n",
      "|    1|[0.0,0.0,1.0,0.0,...|\n",
      "|    1|[0.0,0.0,0.0,1.0,...|\n",
      "|    1|[0.0,0.0,0.0,1.0,...|\n",
      "|    1|[0.0,1.0,0.0,0.0,...|\n",
      "|    1|[1.0,0.0,0.0,1.0,...|\n",
      "|    1|[0.0,0.0,1.0,0.0,...|\n",
      "|    1|[0.0,0.0,0.0,0.0,...|\n",
      "|    1|[1.0,0.0,0.0,0.0,...|\n",
      "|    1|[1.0,0.0,0.0,1.0,...|\n",
      "|    1|[1.0,0.0,0.0,1.0,...|\n",
      "|    1|[1.0,0.0,0.0,0.0,...|\n",
      "|    1|[0.0,1.0,0.0,0.0,...|\n",
      "|    1|[1.0,0.0,0.0,0.0,...|\n",
      "+-----+--------------------+\n",
      "only showing top 20 rows\n",
      "\n"
     ]
    }
   ],
   "source": [
    "df_data_new = df_data.withColumnRenamed('target', 'label')\n",
    "df_data_new.show()"
   ]
  },
  {
   "cell_type": "markdown",
   "metadata": {},
   "source": [
    "Split the data into training and test datasets, 80% training data and 20% test data."
   ]
  },
  {
   "cell_type": "code",
   "execution_count": 4,
   "metadata": {},
   "outputs": [],
   "source": [
    "splits = df_data_new.randomSplit([0.8, 0.2])\n",
    "df_train = splits[0] # training dataset\n",
    "df_test = splits[1] # test dataset"
   ]
  },
  {
   "cell_type": "code",
   "execution_count": 5,
   "metadata": {},
   "outputs": [
    {
     "name": "stdout",
     "output_type": "stream",
     "text": [
      "+-----+--------+\n",
      "|label|count(1)|\n",
      "+-----+--------+\n",
      "|    0|     112|\n",
      "|    1|     127|\n",
      "+-----+--------+\n",
      "\n"
     ]
    }
   ],
   "source": [
    "df_train.createOrReplaceTempView('df_train')\n",
    "spark.sql(\"select label, count(*) from df_train group by label\").show()"
   ]
  },
  {
   "cell_type": "markdown",
   "metadata": {},
   "source": [
    "### 4.2. Model Selection :"
   ]
  },
  {
   "cell_type": "markdown",
   "metadata": {},
   "source": [
    "### Gradient Boosted Trees :"
   ]
  },
  {
   "cell_type": "markdown",
   "metadata": {},
   "source": [
    "Define our Supervised Machine Learning Model using the Gradient Boosted Trees Algorithm and train it using the training dataset."
   ]
  },
  {
   "cell_type": "code",
   "execution_count": 6,
   "metadata": {},
   "outputs": [],
   "source": [
    "from pyspark.ml.classification import GBTClassifier\n",
    "gbt = GBTClassifier(labelCol='label', featuresCol='features', maxIter=10)\n",
    "\n",
    "model = gbt.fit(df_train)\n",
    "prediction1 = model.transform(df_train)"
   ]
  },
  {
   "cell_type": "markdown",
   "metadata": {},
   "source": [
    "We will find accuracy as a measure of evaluation for our model.\n",
    "Let's validate the training performance of our model against our training dataset."
   ]
  },
  {
   "cell_type": "code",
   "execution_count": 7,
   "metadata": {},
   "outputs": [
    {
     "name": "stdout",
     "output_type": "stream",
     "text": [
      "GBT Training Accuracy\n"
     ]
    },
    {
     "data": {
      "text/plain": [
       "0.9790794979079498"
      ]
     },
     "execution_count": 7,
     "metadata": {},
     "output_type": "execute_result"
    }
   ],
   "source": [
    "from pyspark.ml.evaluation import MulticlassClassificationEvaluator\n",
    "evaluator = MulticlassClassificationEvaluator().setMetricName('accuracy').setPredictionCol('prediction').setLabelCol('label')\n",
    "print(\"GBT Training Accuracy\")\n",
    "evaluator.evaluate(prediction1)"
   ]
  },
  {
   "cell_type": "markdown",
   "metadata": {},
   "source": [
    "The performance of our model against our training dataset appears to be pretty good at 0.96 (96%).Let's validate the performance of our model using test dataset."
   ]
  },
  {
   "cell_type": "code",
   "execution_count": 8,
   "metadata": {},
   "outputs": [
    {
     "name": "stdout",
     "output_type": "stream",
     "text": [
      "GBT Validation Accuracy\n"
     ]
    },
    {
     "data": {
      "text/plain": [
       "0.734375"
      ]
     },
     "execution_count": 8,
     "metadata": {},
     "output_type": "execute_result"
    }
   ],
   "source": [
    "model_test = gbt.fit(df_test)\n",
    "prediction_test1 = model.transform(df_test)\n",
    "print(\"GBT Validation Accuracy\")\n",
    "evaluator.evaluate(prediction_test1)"
   ]
  },
  {
   "cell_type": "markdown",
   "metadata": {},
   "source": [
    "### Random Forest Classification :"
   ]
  },
  {
   "cell_type": "code",
   "execution_count": 9,
   "metadata": {},
   "outputs": [],
   "source": [
    "from pyspark.ml.classification import RandomForestClassifier\n",
    "rf = RandomForestClassifier(labelCol=\"label\", featuresCol=\"features\", numTrees=10)\n",
    "\n",
    "model = rf.fit(df_train)\n",
    "prediction2 = model.transform(df_train)"
   ]
  },
  {
   "cell_type": "code",
   "execution_count": 10,
   "metadata": {},
   "outputs": [
    {
     "name": "stdout",
     "output_type": "stream",
     "text": [
      "Random Forest Classification Training Accuracy\n"
     ]
    },
    {
     "data": {
      "text/plain": [
       "0.9330543933054394"
      ]
     },
     "execution_count": 10,
     "metadata": {},
     "output_type": "execute_result"
    }
   ],
   "source": [
    "print(\"Random Forest Classification Training Accuracy\")\n",
    "evaluator.evaluate(prediction2)"
   ]
  },
  {
   "cell_type": "code",
   "execution_count": 11,
   "metadata": {},
   "outputs": [
    {
     "name": "stdout",
     "output_type": "stream",
     "text": [
      "Random Forest Classification Validation Accuracy\n"
     ]
    },
    {
     "data": {
      "text/plain": [
       "0.84375"
      ]
     },
     "execution_count": 11,
     "metadata": {},
     "output_type": "execute_result"
    }
   ],
   "source": [
    "model_test = rf.fit(df_test)\n",
    "prediction_test2 = model.transform(df_test)\n",
    "print(\"Random Forest Classification Validation Accuracy\")\n",
    "evaluator.evaluate(prediction_test2)"
   ]
  },
  {
   "cell_type": "markdown",
   "metadata": {},
   "source": [
    "### Naive Bayes Algorithm :"
   ]
  },
  {
   "cell_type": "code",
   "execution_count": 12,
   "metadata": {},
   "outputs": [],
   "source": [
    "from pyspark.ml.classification import NaiveBayes\n",
    "nb = NaiveBayes(smoothing=1.0, modelType=\"multinomial\")\n",
    "\n",
    "model = nb.fit(df_train)\n",
    "prediction3 = model.transform(df_train)"
   ]
  },
  {
   "cell_type": "code",
   "execution_count": 13,
   "metadata": {},
   "outputs": [
    {
     "name": "stdout",
     "output_type": "stream",
     "text": [
      "Naive Bayes Algorithm Training Accuracy\n"
     ]
    },
    {
     "data": {
      "text/plain": [
       "0.8410041841004184"
      ]
     },
     "execution_count": 13,
     "metadata": {},
     "output_type": "execute_result"
    }
   ],
   "source": [
    "print(\"Naive Bayes Algorithm Training Accuracy\")\n",
    "evaluator.evaluate(prediction3)"
   ]
  },
  {
   "cell_type": "code",
   "execution_count": 14,
   "metadata": {},
   "outputs": [
    {
     "name": "stdout",
     "output_type": "stream",
     "text": [
      "Naive Bayes Algorithm Validation Accuracy\n"
     ]
    },
    {
     "data": {
      "text/plain": [
       "0.890625"
      ]
     },
     "execution_count": 14,
     "metadata": {},
     "output_type": "execute_result"
    }
   ],
   "source": [
    "model_test = nb.fit(df_test)\n",
    "prediction_test3 = model.transform(df_test)\n",
    "print(\"Naive Bayes Algorithm Validation Accuracy\")\n",
    "evaluator.evaluate(prediction_test3)"
   ]
  },
  {
   "cell_type": "markdown",
   "metadata": {},
   "source": [
    "### Decision Tree Algorithm :"
   ]
  },
  {
   "cell_type": "code",
   "execution_count": 15,
   "metadata": {},
   "outputs": [],
   "source": [
    "from pyspark.ml.classification import DecisionTreeClassifier\n",
    "dt = DecisionTreeClassifier(labelCol=\"label\", featuresCol=\"features\")\n",
    "\n",
    "model = dt.fit(df_train)\n",
    "prediction4 = model.transform(df_train)"
   ]
  },
  {
   "cell_type": "code",
   "execution_count": 16,
   "metadata": {},
   "outputs": [
    {
     "name": "stdout",
     "output_type": "stream",
     "text": [
      "Decision Tree Algorithm Training Accuracy\n"
     ]
    },
    {
     "data": {
      "text/plain": [
       "0.9205020920502092"
      ]
     },
     "execution_count": 16,
     "metadata": {},
     "output_type": "execute_result"
    }
   ],
   "source": [
    "print(\"Decision Tree Algorithm Training Accuracy\")\n",
    "evaluator.evaluate(prediction4)"
   ]
  },
  {
   "cell_type": "code",
   "execution_count": 17,
   "metadata": {},
   "outputs": [
    {
     "name": "stdout",
     "output_type": "stream",
     "text": [
      "Decision Tree Algorithm Validation Accuracy\n"
     ]
    },
    {
     "data": {
      "text/plain": [
       "0.734375"
      ]
     },
     "execution_count": 17,
     "metadata": {},
     "output_type": "execute_result"
    }
   ],
   "source": [
    "model_test = dt.fit(df_test)\n",
    "prediction_test4 = model.transform(df_test)\n",
    "print(\"Decision Tree Algorithm Validation Accuracy\")\n",
    "evaluator.evaluate(prediction_test4)"
   ]
  },
  {
   "cell_type": "markdown",
   "metadata": {},
   "source": [
    "### Linear Support Vector Machine(SVM) :"
   ]
  },
  {
   "cell_type": "code",
   "execution_count": 18,
   "metadata": {},
   "outputs": [],
   "source": [
    "from pyspark.ml.classification import LinearSVC\n",
    "lsvc = LinearSVC(maxIter=10, regParam=0.1)\n",
    "\n",
    "model = lsvc.fit(df_train)\n",
    "prediction5 = model.transform(df_train)"
   ]
  },
  {
   "cell_type": "code",
   "execution_count": 19,
   "metadata": {},
   "outputs": [
    {
     "name": "stdout",
     "output_type": "stream",
     "text": [
      "Support Vector Machine Algorithm Training Accuracy\n"
     ]
    },
    {
     "data": {
      "text/plain": [
       "0.8702928870292888"
      ]
     },
     "execution_count": 19,
     "metadata": {},
     "output_type": "execute_result"
    }
   ],
   "source": [
    "print(\"Support Vector Machine Algorithm Training Accuracy\")\n",
    "evaluator.evaluate(prediction5)"
   ]
  },
  {
   "cell_type": "code",
   "execution_count": 20,
   "metadata": {
    "scrolled": true
   },
   "outputs": [
    {
     "name": "stdout",
     "output_type": "stream",
     "text": [
      "Support Vector Machine Algorithm Validation Accuracy\n"
     ]
    },
    {
     "data": {
      "text/plain": [
       "0.828125"
      ]
     },
     "execution_count": 20,
     "metadata": {},
     "output_type": "execute_result"
    }
   ],
   "source": [
    "model_test = lsvc.fit(df_test)\n",
    "prediction_test5 = model.transform(df_test)\n",
    "print(\"Support Vector Machine Algorithm Validation Accuracy\")\n",
    "evaluator.evaluate(prediction_test5)"
   ]
  },
  {
   "cell_type": "markdown",
   "metadata": {},
   "source": [
    "### Comparison of  Algorithms :"
   ]
  },
  {
   "cell_type": "code",
   "execution_count": 21,
   "metadata": {},
   "outputs": [],
   "source": [
    "import matplotlib.pyplot as plt\n",
    "import numpy as np\n",
    "import pandas as pd\n",
    "import seaborn as sns \n",
    "\n",
    "methods_accuracy = {\n",
    "    \"GBT\":evaluator.evaluate(prediction_test1),\n",
    "    \"Random Forest\" : evaluator.evaluate(prediction_test2),\n",
    "    \"Naive Bayes\" : evaluator.evaluate(prediction_test3),\n",
    "    \"Decision Tree\" : evaluator.evaluate(prediction_test4),\n",
    "    \"SVM\" : evaluator.evaluate(prediction_test5),\n",
    "    \n",
    "}"
   ]
  },
  {
   "cell_type": "code",
   "execution_count": 22,
   "metadata": {},
   "outputs": [
    {
     "name": "stderr",
     "output_type": "stream",
     "text": [
      "/opt/ibm/conda/miniconda3/lib/python3.5/site-packages/seaborn/categorical.py:1460: FutureWarning: remove_na is deprecated and is a private function. Do not use.\n",
      "  stat_data = remove_na(group_data)\n"
     ]
    },
    {
     "data": {
      "image/png": "[encoded data removed]",
      "text/plain": [
       "<matplotlib.figure.Figure at 0x7fa4064829b0>"
      ]
     },
     "metadata": {},
     "output_type": "display_data"
    }
   ],
   "source": [
    "methods = [\"GBT\",\"Random Forest\", \"Naive Bayes\", \"Decision Tree\", \"SVM\"]\n",
    "accuracy = [evaluator.evaluate(prediction_test1), evaluator.evaluate(prediction_test2),evaluator.evaluate(prediction_test3),evaluator.evaluate(prediction_test4),evaluator.evaluate(prediction_test5)]\n",
    "\n",
    "sns.set()\n",
    "plt.figure(figsize=(14,6))\n",
    "plt.ylabel(\"Success %\")\n",
    "plt.xlabel(\"Algorithms\")\n",
    "sns.barplot(x=methods, y=accuracy, palette=\"deep\")\n",
    "\n",
    "for line in range(len(methods)):\n",
    "     plt.text(line-0.15, # x\n",
    "              0.70, # y\n",
    "             \"{:.2f}%\".format(accuracy[line]*100),\n",
    "             horizontalalignment='left',\n",
    "              size='large',\n",
    "             color=\"white\",\n",
    "             )\n",
    "\n",
    "        \n",
    "###plt.savefig('ba.png',transparent=True)\n",
    "      \n",
    "plt.show()"
   ]
  },
  {
   "cell_type": "markdown",
   "metadata": {},
   "source": [
    "So Naive Bayes is the best here and Random Forest is the 2nd best and, Decision tree and GBT are the worst algorithms.\n"
   ]
  },
  {
   "cell_type": "markdown",
   "metadata": {},
   "source": [
    "### Neural networks :"
   ]
  },
  {
   "cell_type": "markdown",
   "metadata": {},
   "source": [
    "In our data, we have created training and test datasets to be used for training and testing our model. However this data is represented as dataframes. Our Feed Forward Neural Network model here is implemented using Keras.\n",
    "This Feed Forward Neural Network model expects the input and output dataset as arrays. So, let us first construct input and output data arrays from our training and test datasets.We will define a function which will take a dataframe as input and return the input array (features) and output array (label)."
   ]
  },
  {
   "cell_type": "markdown",
   "metadata": {},
   "source": [
    "### Feed Forward Neural Network (MLP) :"
   ]
  },
  {
   "cell_type": "code",
   "execution_count": 23,
   "metadata": {},
   "outputs": [],
   "source": [
    "def construct_arrays (df):\n",
    "    # Initialize Input and Output arrays for the Data set\n",
    "    X = []\n",
    "    y = []\n",
    "    \n",
    "    # Convert dataframe from Spark DF to Pandas DF\n",
    "    df_pd = df.toPandas()\n",
    "\n",
    "    # Loop through dataframe and add data to input and output arrays\n",
    "    for index, row in df_pd.iterrows():\n",
    "        X.append(row[1])\n",
    "        y.append(row[0])\n",
    "\n",
    "    # Convery input and output data arrays from Python arrays to Numpy arrays\n",
    "    X = np.array(X)\n",
    "    y = np.array(y)\n",
    "    \n",
    "    return (X, y)"
   ]
  },
  {
   "cell_type": "markdown",
   "metadata": {},
   "source": [
    "Pass the training and test data frames to the above function to obtain the respective input and output arrays containing the feature set and the label data."
   ]
  },
  {
   "cell_type": "code",
   "execution_count": 24,
   "metadata": {},
   "outputs": [
    {
     "name": "stdout",
     "output_type": "stream",
     "text": [
      "Size of Training Features dataset:  239\n",
      "[[ 0.  0.  0. ...,  0.  0.  0.]\n",
      " [ 0.  0.  0. ...,  0.  0.  0.]\n",
      " [ 0.  0.  0. ...,  0.  0.  1.]\n",
      " ..., \n",
      " [ 1.  1.  0. ...,  0.  0.  1.]\n",
      " [ 1.  1.  0. ...,  0.  0.  1.]\n",
      " [ 1.  1.  0. ...,  0.  0.  1.]]\n",
      "Size of Training Label dataset:  239\n",
      "[0 0 0 0 0 0 0 0 0 0 0 0 0 0 0 0 0 0 0 0 0 0 0 0 0 0 0 0 0 0 0 0 0 0 0 0 0\n",
      " 0 0 0 0 0 0 0 0 0 0 0 0 0 0 0 0 0 0 0 0 0 0 0 0 0 0 0 0 0 0 0 0 0 0 0 0 0\n",
      " 0 0 0 0 0 0 0 0 0 0 0 0 0 0 0 0 0 0 0 0 0 0 0 0 0 0 0 0 0 0 0 0 0 0 0 0 0\n",
      " 0 1 1 1 1 1 1 1 1 1 1 1 1 1 1 1 1 1 1 1 1 1 1 1 1 1 1 1 1 1 1 1 1 1 1 1 1\n",
      " 1 1 1 1 1 1 1 1 1 1 1 1 1 1 1 1 1 1 1 1 1 1 1 1 1 1 1 1 1 1 1 1 1 1 1 1 1\n",
      " 1 1 1 1 1 1 1 1 1 1 1 1 1 1 1 1 1 1 1 1 1 1 1 1 1 1 1 1 1 1 1 1 1 1 1 1 1\n",
      " 1 1 1 1 1 1 1 1 1 1 1 1 1 1 1 1 1]\n",
      "Size of Test Features dataset:  64\n",
      "[[ 0.  0.  0. ...,  0.  0.  0.]\n",
      " [ 0.  0.  0. ...,  0.  0.  0.]\n",
      " [ 0.  1.  0. ...,  0.  0.  1.]\n",
      " ..., \n",
      " [ 1.  1.  0. ...,  0.  0.  1.]\n",
      " [ 1.  1.  0. ...,  0.  0.  1.]\n",
      " [ 1.  1.  0. ...,  0.  0.  1.]]\n",
      "Size of Test Label dataset:  64\n",
      "[0 0 0 0 0 0 0 0 0 0 0 0 0 0 0 0 0 0 0 0 0 0 0 0 0 0 1 1 1 1 1 1 1 1 1 1 1\n",
      " 1 1 1 1 1 1 1 1 1 1 1 1 1 1 1 1 1 1 1 1 1 1 1 1 1 1 1]\n"
     ]
    }
   ],
   "source": [
    "X_train, y_train = construct_arrays(df_train)\n",
    "print(\"Size of Training Features dataset: \", len(X_train))\n",
    "print(X_train)\n",
    "print(\"Size of Training Label dataset: \", len(y_train))\n",
    "print(y_train)\n",
    "\n",
    "X_test, y_test = construct_arrays (df_test)\n",
    "print(\"Size of Test Features dataset: \", len(X_test))\n",
    "print(X_test)\n",
    "print(\"Size of Test Label dataset: \", len(y_test))\n",
    "print(y_test)"
   ]
  },
  {
   "cell_type": "markdown",
   "metadata": {},
   "source": [
    "### Model Definition, Training and Evaluation of Deep Learning :"
   ]
  },
  {
   "cell_type": "markdown",
   "metadata": {},
   "source": [
    "Define our Deep Learning Model using the Feed Forward Neural Network (Multilayer Perceptron) Algorithm and then train and evaluate the model using the training and test/validation datasets."
   ]
  },
  {
   "cell_type": "code",
   "execution_count": 25,
   "metadata": {},
   "outputs": [
    {
     "name": "stderr",
     "output_type": "stream",
     "text": [
      "Using TensorFlow backend.\n"
     ]
    },
    {
     "name": "stdout",
     "output_type": "stream",
     "text": [
      "Train on 239 samples, validate on 64 samples\n",
      "Epoch 1/20\n",
      "239/239 [==============================] - 0s 882us/step - loss: 0.6758 - acc: 0.6025 - val_loss: 0.6298 - val_acc: 0.7656\n",
      "Epoch 2/20\n",
      "239/239 [==============================] - 0s 412us/step - loss: 0.5779 - acc: 0.7824 - val_loss: 0.4595 - val_acc: 0.8281\n",
      "Epoch 3/20\n",
      "239/239 [==============================] - 0s 338us/step - loss: 0.4457 - acc: 0.8494 - val_loss: 0.3610 - val_acc: 0.8594\n",
      "Epoch 4/20\n",
      "239/239 [==============================] - 0s 332us/step - loss: 0.3769 - acc: 0.8368 - val_loss: 0.3321 - val_acc: 0.8438\n",
      "Epoch 5/20\n",
      "239/239 [==============================] - 0s 365us/step - loss: 0.3500 - acc: 0.8494 - val_loss: 0.3781 - val_acc: 0.8438\n",
      "Epoch 6/20\n",
      "239/239 [==============================] - 0s 420us/step - loss: 0.3383 - acc: 0.8494 - val_loss: 0.3432 - val_acc: 0.8594\n",
      "Epoch 7/20\n",
      "239/239 [==============================] - 0s 537us/step - loss: 0.3377 - acc: 0.8577 - val_loss: 0.3444 - val_acc: 0.8594\n",
      "Epoch 8/20\n",
      "239/239 [==============================] - 0s 371us/step - loss: 0.3279 - acc: 0.8452 - val_loss: 0.3404 - val_acc: 0.8438\n",
      "Epoch 9/20\n",
      "239/239 [==============================] - 0s 293us/step - loss: 0.3311 - acc: 0.8536 - val_loss: 0.3799 - val_acc: 0.8438\n",
      "Epoch 10/20\n",
      "239/239 [==============================] - 0s 286us/step - loss: 0.3259 - acc: 0.8536 - val_loss: 0.3611 - val_acc: 0.8594\n",
      "Epoch 11/20\n",
      "239/239 [==============================] - 0s 296us/step - loss: 0.3183 - acc: 0.8494 - val_loss: 0.3778 - val_acc: 0.8438\n",
      "Epoch 12/20\n",
      "239/239 [==============================] - 0s 302us/step - loss: 0.3220 - acc: 0.8577 - val_loss: 0.3551 - val_acc: 0.8438\n",
      "Epoch 13/20\n",
      "239/239 [==============================] - 0s 302us/step - loss: 0.3170 - acc: 0.8619 - val_loss: 0.3739 - val_acc: 0.8750\n",
      "Epoch 14/20\n",
      "239/239 [==============================] - 0s 313us/step - loss: 0.3178 - acc: 0.8661 - val_loss: 0.3641 - val_acc: 0.8438\n",
      "Epoch 15/20\n",
      "239/239 [==============================] - 0s 321us/step - loss: 0.3138 - acc: 0.8703 - val_loss: 0.3732 - val_acc: 0.8594\n",
      "Epoch 16/20\n",
      "239/239 [==============================] - 0s 311us/step - loss: 0.3133 - acc: 0.8661 - val_loss: 0.3629 - val_acc: 0.8438\n",
      "Epoch 17/20\n",
      "239/239 [==============================] - 0s 299us/step - loss: 0.3123 - acc: 0.8703 - val_loss: 0.3745 - val_acc: 0.8594\n",
      "Epoch 18/20\n",
      "239/239 [==============================] - 0s 303us/step - loss: 0.3130 - acc: 0.8661 - val_loss: 0.3653 - val_acc: 0.8438\n",
      "Epoch 19/20\n",
      "239/239 [==============================] - 0s 317us/step - loss: 0.3111 - acc: 0.8619 - val_loss: 0.3730 - val_acc: 0.8438\n",
      "Epoch 20/20\n",
      "239/239 [==============================] - 0s 330us/step - loss: 0.3072 - acc: 0.8577 - val_loss: 0.3624 - val_acc: 0.8438\n",
      "[0.36236836016178131, 0.84375]\n"
     ]
    }
   ],
   "source": [
    "from keras.models import Sequential\n",
    "from keras.layers import Dense\n",
    "from keras.wrappers.scikit_learn import KerasClassifier\n",
    "from keras.utils import np_utils\n",
    "\n",
    "# Define a Multilayer Perceptron (MLP) Model using Keras\n",
    "model = Sequential()\n",
    "model.add(Dense(21, input_dim = 21, kernel_initializer = 'normal', activation = 'relu')) # input Layer\n",
    "model.add(Dense(1, kernel_initializer = 'normal', activation = 'sigmoid')) # Output Layer\n",
    "\n",
    "# Compile our model\n",
    "model.compile(loss = 'binary_crossentropy', optimizer = 'adadelta', metrics = ['accuracy'])\n",
    "\n",
    "# Train our model\n",
    "model.fit(X_train, y_train, epochs = 20, batch_size = 5, verbose = 1, validation_data = (X_test, y_test))\n",
    "\n",
    "# Evaluate our model\n",
    "score = model.evaluate(X_test, y_test, verbose = 0)\n",
    "print(score)"
   ]
  },
  {
   "cell_type": "markdown",
   "metadata": {},
   "source": [
    "The accuracy of our Feed Forward Neural Network is not bad.\n",
    "\n",
    "Accurancy : %84"
   ]
  },
  {
   "cell_type": "code",
   "execution_count": 32,
   "metadata": {},
   "outputs": [],
   "source": [
    "accrDL = 0.84375"
   ]
  },
  {
   "cell_type": "markdown",
   "metadata": {},
   "source": [
    "### Comparison of All Algorithms :"
   ]
  },
  {
   "cell_type": "code",
   "execution_count": 26,
   "metadata": {},
   "outputs": [],
   "source": [
    "methods_accuracyy = {\n",
    "    \"GBT\":evaluator.evaluate(prediction_test1),\n",
    "    \"Random Forest\" : evaluator.evaluate(prediction_test2),\n",
    "    \"Naive Bayes\" : evaluator.evaluate(prediction_test3),\n",
    "    \"Decision Tree\" : evaluator.evaluate(prediction_test4),\n",
    "    \"SVM\" : evaluator.evaluate(prediction_test5),\n",
    "    \"Feed Forward Neural Network\" : accrDL \n",
    "}\n"
   ]
  },
  {
   "cell_type": "code",
   "execution_count": 34,
   "metadata": {},
   "outputs": [
    {
     "name": "stderr",
     "output_type": "stream",
     "text": [
      "/opt/ibm/conda/miniconda3/lib/python3.5/site-packages/seaborn/categorical.py:1460: FutureWarning: remove_na is deprecated and is a private function. Do not use.\n",
      "  stat_data = remove_na(group_data)\n"
     ]
    },
    {
     "data": {
      "image/png": "[encoded data removed]",
      "text/plain": [
       "<matplotlib.figure.Figure at 0x7fa3f04a3ef0>"
      ]
     },
     "metadata": {},
     "output_type": "display_data"
    }
   ],
   "source": [
    "methods = [\"GBT\",\"Random Forest\", \"Naive Bayes\", \"Decision Tree\", \"SVM\", \"Feed Forward Neural Network\"]\n",
    "accuracy = [evaluator.evaluate(prediction_test1), evaluator.evaluate(prediction_test2),evaluator.evaluate(prediction_test3),evaluator.evaluate(prediction_test4),evaluator.evaluate(prediction_test5), accrDL]\n",
    "\n",
    "sns.set()\n",
    "plt.figure(figsize=(14,6))\n",
    "plt.ylabel(\"Success %\")\n",
    "plt.xlabel(\"All Algorithms\")\n",
    "sns.barplot(x=methods, y=accuracy, palette=\"deep\")\n",
    "\n",
    "for line in range(len(methods)):\n",
    "     plt.text(line-0.15, # x\n",
    "              0.70, # y\n",
    "             \"{:.2f}%\".format(accuracy[line]*100),\n",
    "             horizontalalignment='left',\n",
    "              size='large',\n",
    "             color=\"white\",\n",
    "             )\n",
    "\n",
    "        \n",
    "###plt.savefig('ba.png',transparent=True)\n",
    "      \n",
    "plt.show()"
   ]
  }
 ],
 "metadata": {
  "kernelspec": {
   "display_name": "Python 3",
   "language": "python",
   "name": "python3"
  },
  "language_info": {
   "codemirror_mode": {
    "name": "ipython",
    "version": 3
   },
   "file_extension": ".py",
   "mimetype": "text/x-python",
   "name": "python",
   "nbconvert_exporter": "python",
   "pygments_lexer": "ipython3",
   "version": "3.7.3"
  }
 },
 "nbformat": 4,
 "nbformat_minor": 1
}
